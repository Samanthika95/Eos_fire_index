{
  "nbformat": 4,
  "nbformat_minor": 0,
  "metadata": {
    "colab": {
      "name": "fire_json_and_targets_categorized.ipynb",
      "provenance": []
    },
    "kernelspec": {
      "name": "python3",
      "display_name": "Python 3"
    },
    "language_info": {
      "name": "python"
    }
  },
  "cells": [
    {
      "cell_type": "code",
      "metadata": {
        "id": "75YbMcNeWVgd",
        "colab": {
          "base_uri": "https://localhost:8080/"
        },
        "outputId": "07b16c2d-ff96-4a93-b9ae-c6ceaffe069b"
      },
      "source": [
        "from google.colab import drive\n",
        "drive.mount('/content/drive')\n",
        "import os \n",
        "import json \n",
        "import shutil"
      ],
      "execution_count": 39,
      "outputs": [
        {
          "output_type": "stream",
          "text": [
            "Drive already mounted at /content/drive; to attempt to forcibly remount, call drive.mount(\"/content/drive\", force_remount=True).\n"
          ],
          "name": "stdout"
        }
      ]
    },
    {
      "cell_type": "code",
      "metadata": {
        "id": "JPeRh9bu_Nlx"
      },
      "source": [
        "  //filter labels and targets\n",
        "    main_folder_path = \"/content/drive/MyDrive/FYP_dataset/dataset_extract/train\"\n",
        "    images_folder_path = main_folder_path+\"/targets\"\n",
        "    labels_folder_path = main_folder_path+\"/labels\"\n",
        "    categorized_folder_path = \"/content/drive/My Drive/categorized\"\n",
        "\n",
        "    os.chdir(main_folder_path)\n",
        "    for json_filename in os.listdir(labels_folder_path):\n",
        "      json_path = os.path.join(main_folder_path, \"labels\", json_filename)\n",
        "      f = open(json_path, 'r')\n",
        "      data = json.load(f)\n",
        "      disaster_type = data[\"metadata\"][\"disaster_type\"]\n",
        "      img_name = data[\"metadata\"][\"img_name\"]\n",
        "      new_image = img_name.split(\".\")[0]+\"_target.png\"\n",
        "      print(\"disaster:\", disaster_type, \"image:\", img_name)\n",
        "      f.close()\n",
        "      img_filepath = os.path.join(main_folder_path, \"targets\", new_image)\n",
        "      category_folderpath_for_labels = os.path.join(categorized_folder_path, \"labels\", \"fire\")\n",
        "      category_folderpath_for_images = os.path.join(categorized_folder_path, \"targets\", \"fire\")\n",
        "      if os.path.exists(img_filepath):\n",
        "        if not os.path.exists(category_folderpath_for_labels):\n",
        "          os.mkdir(category_folderpath_for_labels)\n",
        "        if not os.path.exists(category_folderpath_for_images):\n",
        "          os.mkdir(category_folderpath_for_images)\n",
        "      if disaster_type == \"fire\":\n",
        "       shutil.copy(json_path, category_folderpath_for_labels)\n",
        "       shutil.copy(img_filepath, category_folderpath_for_images)"
      ],
      "execution_count": null,
      "outputs": []
    },
    {
      "cell_type": "code",
      "metadata": {
        "id": "H9dBDLs8L7X5"
      },
      "source": [
        "// filter images\n",
        "import os \n",
        "import json \n",
        "import shutil\n",
        "\n",
        "main_folder_path = \"/content/drive/MyDrive/FYP_dataset/dataset_extract/train\"\n",
        "images_folder_path = main_folder_path+\"/images\"\n",
        "labels_folder_path = main_folder_path+\"/labels\"\n",
        "categorized_folder_path = \"/content/drive/MyDrive/categorized\"\n",
        "\n",
        "os.chdir(main_folder_path)\n",
        "for json_filename in os.listdir(labels_folder_path):\n",
        "  json_path = os.path.join(main_folder_path, \"labels\", json_filename)\n",
        "  f = open(json_path, 'r')\n",
        "  data = json.load(f)\n",
        "  disaster_type = data[\"metadata\"][\"disaster_type\"]\n",
        "  img_name = data[\"metadata\"][\"img_name\"]\n",
        "  print(\"disaster:\", disaster_type, \"image:\", img_name)\n",
        "  f.close()\n",
        "  img_filepath = os.path.join(main_folder_path, \"images\", img_name)\n",
        "  category_folderpath = os.path.join(categorized_folder_path, disaster_type)\n",
        "  if os.path.exists(img_filepath):\n",
        "    if not os.path.exists(category_folderpath):\n",
        "      os.mkdir(category_folderpath)\n",
        "    shutil.copy(img_filepath, category_folderpath)"
      ],
      "execution_count": null,
      "outputs": []
    }
  ]
}