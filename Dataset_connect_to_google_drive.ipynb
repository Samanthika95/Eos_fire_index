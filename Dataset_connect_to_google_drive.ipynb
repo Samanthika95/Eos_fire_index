{
  "nbformat": 4,
  "nbformat_minor": 0,
  "metadata": {
    "colab": {
      "name": "Dataset_connect_to_google_drive.ipynb",
      "provenance": []
    },
    "kernelspec": {
      "name": "python3",
      "display_name": "Python 3"
    },
    "language_info": {
      "name": "python"
    }
  },
  "cells": [
    {
      "cell_type": "code",
      "metadata": {
        "colab": {
          "base_uri": "https://localhost:8080/"
        },
        "id": "4F6qzM1BycgW",
        "outputId": "372a5dd8-1b74-4ec7-e081-2652d5b68751"
      },
      "source": [
        "from google.colab import drive\n",
        "drive.mount('/content/gdrive')"
      ],
      "execution_count": null,
      "outputs": [
        {
          "output_type": "stream",
          "text": [
            "Mounted at /content/gdrive\n"
          ],
          "name": "stdout"
        }
      ]
    },
    {
      "cell_type": "code",
      "metadata": {
        "colab": {
          "base_uri": "https://localhost:8080/"
        },
        "id": "-7AvpPEq0toS",
        "outputId": "70f046fc-c70f-4069-bc93-a20efeb3f354"
      },
      "source": [
        "import os\n",
        "os.chdir('/content/gdrive/MyDrive/test')\n",
        "!wget -c \"https://vdurnov.s3.amazonaws.com/xview2_1st_weights.zip\" --no-check-certificate"
      ],
      "execution_count": null,
      "outputs": [
        {
          "output_type": "stream",
          "text": [
            "--2021-06-28 18:15:21--  https://vdurnov.s3.amazonaws.com/xview2_1st_weights.zip\n",
            "Resolving vdurnov.s3.amazonaws.com (vdurnov.s3.amazonaws.com)... 52.216.178.139\n",
            "Connecting to vdurnov.s3.amazonaws.com (vdurnov.s3.amazonaws.com)|52.216.178.139|:443... connected.\n",
            "HTTP request sent, awaiting response... 200 OK\n",
            "Length: 5202032199 (4.8G) [application/zip]\n",
            "Saving to: ‘xview2_1st_weights.zip’\n",
            "\n",
            "xview2_1st_weights. 100%[===================>]   4.84G  15.1MB/s    in 5m 27s  \n",
            "\n",
            "2021-06-28 18:20:48 (15.2 MB/s) - ‘xview2_1st_weights.zip’ saved [5202032199/5202032199]\n",
            "\n"
          ],
          "name": "stdout"
        }
      ]
    },
    {
      "cell_type": "code",
      "metadata": {
        "colab": {
          "base_uri": "https://localhost:8080/"
        },
        "id": "2-djJIeG3Hmz",
        "outputId": "beeddfe3-7114-45f8-e315-bf5d4d0cd2de"
      },
      "source": [
        "!apt install unzip"
      ],
      "execution_count": null,
      "outputs": [
        {
          "output_type": "stream",
          "text": [
            "Reading package lists... Done\n",
            "Building dependency tree       \n",
            "Reading state information... Done\n",
            "unzip is already the newest version (6.0-21ubuntu1.1).\n",
            "0 upgraded, 0 newly installed, 0 to remove and 39 not upgraded.\n"
          ],
          "name": "stdout"
        }
      ]
    },
    {
      "cell_type": "code",
      "metadata": {
        "colab": {
          "base_uri": "https://localhost:8080/"
        },
        "id": "FzJZdmtn3KsY",
        "outputId": "10cb1738-a8cf-419b-a3cd-3fcce188f2c5"
      },
      "source": [
        "!unzip \"/content/gdrive/MyDrive/test/xview2_1st_weights.zip\" -d \"/content/gdrive/MyDrive/test\""
      ],
      "execution_count": null,
      "outputs": [
        {
          "output_type": "stream",
          "text": [
            "Archive:  /content/gdrive/MyDrive/test/xview2_1st_weights.zip\n",
            "   creating: /content/gdrive/MyDrive/test/weights/\n",
            "  inflating: /content/gdrive/MyDrive/test/weights/dpn92_cls_cce_0_tuned_best  \n",
            "  inflating: /content/gdrive/MyDrive/test/weights/dpn92_cls_cce_1_tuned_best  \n",
            "  inflating: /content/gdrive/MyDrive/test/weights/dpn92_cls_cce_2_tuned_best  \n",
            "  inflating: /content/gdrive/MyDrive/test/weights/dpn92_loc_0_tuned_best  \n",
            "  inflating: /content/gdrive/MyDrive/test/weights/dpn92_loc_1_tuned_best  \n",
            "  inflating: /content/gdrive/MyDrive/test/weights/dpn92_loc_2_tuned_best  \n",
            "  inflating: /content/gdrive/MyDrive/test/weights/res34_cls2_0_tuned_best  \n",
            "  inflating: /content/gdrive/MyDrive/test/weights/res34_cls2_1_tuned_best  \n",
            "  inflating: /content/gdrive/MyDrive/test/weights/res34_cls2_2_tuned_best  \n",
            "  inflating: /content/gdrive/MyDrive/test/weights/res34_loc_0_1_best  \n",
            "  inflating: /content/gdrive/MyDrive/test/weights/res34_loc_1_1_best  \n",
            "  inflating: /content/gdrive/MyDrive/test/weights/res34_loc_2_1_best  \n",
            "  inflating: /content/gdrive/MyDrive/test/weights/res50_cls_cce_0_tuned_best  \n",
            "  inflating: /content/gdrive/MyDrive/test/weights/res50_cls_cce_1_tuned_best  \n",
            "  inflating: /content/gdrive/MyDrive/test/weights/res50_cls_cce_2_tuned_best  \n",
            "  inflating: /content/gdrive/MyDrive/test/weights/res50_loc_0_tuned_best  \n",
            "  inflating: /content/gdrive/MyDrive/test/weights/res50_loc_1_tuned_best  \n",
            "  inflating: /content/gdrive/MyDrive/test/weights/res50_loc_2_tuned_best  \n",
            "  inflating: /content/gdrive/MyDrive/test/weights/se154_cls_cce_0_tuned_best  \n",
            "  inflating: /content/gdrive/MyDrive/test/weights/se154_cls_cce_1_tuned_best  \n",
            "  inflating: /content/gdrive/MyDrive/test/weights/se154_cls_cce_2_tuned_best  \n",
            "  inflating: /content/gdrive/MyDrive/test/weights/se154_loc_0_1_best  \n",
            "  inflating: /content/gdrive/MyDrive/test/weights/se154_loc_1_1_best  \n",
            "  inflating: /content/gdrive/MyDrive/test/weights/se154_loc_2_1_best  \n"
          ],
          "name": "stdout"
        }
      ]
    },
    {
      "cell_type": "code",
      "metadata": {
        "id": "19wr-3i04JpK"
      },
      "source": [
        ""
      ],
      "execution_count": null,
      "outputs": []
    }
  ]
}